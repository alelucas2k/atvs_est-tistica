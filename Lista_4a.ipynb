{
 "cells": [
  {
   "cell_type": "markdown",
   "id": "85bbed04",
   "metadata": {},
   "source": [
    "# Respostas"
   ]
  },
  {
   "cell_type": "code",
   "execution_count": 2,
   "id": "337a8874",
   "metadata": {},
   "outputs": [],
   "source": [
    "import pandas as pd\n",
    "import numpy as np\n",
    "\n",
    "#Questão 1:\n",
    "\n",
    "Mercearia = pd.DataFrame({\"loja\":[\"A\", \"A\", \"A\"],\n",
    "\"dia\": [\"sex\", \"sab\", \"dom\"],\n",
    "\"valor\": [7500, 9500, 8200]})\n",
    "Farmácia = pd.DataFrame({\"loja\":[\"B\", \"B\", \"B\"],\n",
    "\"dia\": [\"sex\", \"sab\", \"dom\"],\n",
    "\"valor\": [5100, 8250, 9900]})\n",
    "Restaurante = pd.DataFrame({\"loja\":[\"C\", \"C\"],\n",
    "\"dia\": [\"sab\", \"dom\"],\n",
    "\"valor\": [7500, 11800]})"
   ]
  },
  {
   "cell_type": "code",
   "execution_count": 3,
   "id": "3423c31e",
   "metadata": {},
   "outputs": [
    {
     "data": {
      "text/html": [
       "<div>\n",
       "<style scoped>\n",
       "    .dataframe tbody tr th:only-of-type {\n",
       "        vertical-align: middle;\n",
       "    }\n",
       "\n",
       "    .dataframe tbody tr th {\n",
       "        vertical-align: top;\n",
       "    }\n",
       "\n",
       "    .dataframe thead th {\n",
       "        text-align: right;\n",
       "    }\n",
       "</style>\n",
       "<table border=\"1\" class=\"dataframe\">\n",
       "  <thead>\n",
       "    <tr style=\"text-align: right;\">\n",
       "      <th></th>\n",
       "      <th>loja</th>\n",
       "      <th>dia</th>\n",
       "      <th>valor</th>\n",
       "      <th>loja</th>\n",
       "      <th>dia</th>\n",
       "      <th>valor</th>\n",
       "      <th>loja</th>\n",
       "      <th>dia</th>\n",
       "      <th>valor</th>\n",
       "    </tr>\n",
       "  </thead>\n",
       "  <tbody>\n",
       "    <tr>\n",
       "      <th>0</th>\n",
       "      <td>A</td>\n",
       "      <td>sex</td>\n",
       "      <td>7500</td>\n",
       "      <td>B</td>\n",
       "      <td>sex</td>\n",
       "      <td>5100</td>\n",
       "      <td>C</td>\n",
       "      <td>sab</td>\n",
       "      <td>7500.0</td>\n",
       "    </tr>\n",
       "    <tr>\n",
       "      <th>1</th>\n",
       "      <td>A</td>\n",
       "      <td>sab</td>\n",
       "      <td>9500</td>\n",
       "      <td>B</td>\n",
       "      <td>sab</td>\n",
       "      <td>8250</td>\n",
       "      <td>C</td>\n",
       "      <td>dom</td>\n",
       "      <td>11800.0</td>\n",
       "    </tr>\n",
       "    <tr>\n",
       "      <th>2</th>\n",
       "      <td>A</td>\n",
       "      <td>dom</td>\n",
       "      <td>8200</td>\n",
       "      <td>B</td>\n",
       "      <td>dom</td>\n",
       "      <td>9900</td>\n",
       "      <td>NaN</td>\n",
       "      <td>NaN</td>\n",
       "      <td>NaN</td>\n",
       "    </tr>\n",
       "  </tbody>\n",
       "</table>\n",
       "</div>"
      ],
      "text/plain": [
       "  loja  dia  valor loja  dia  valor loja  dia    valor\n",
       "0    A  sex   7500    B  sex   5100    C  sab   7500.0\n",
       "1    A  sab   9500    B  sab   8250    C  dom  11800.0\n",
       "2    A  dom   8200    B  dom   9900  NaN  NaN      NaN"
      ]
     },
     "execution_count": 3,
     "metadata": {},
     "output_type": "execute_result"
    }
   ],
   "source": [
    "#Em linhas\n",
    "pd.concat([Mercearia, Farmácia, Restaurante],axis =1 )"
   ]
  },
  {
   "cell_type": "code",
   "execution_count": 4,
   "id": "3472e8d7",
   "metadata": {},
   "outputs": [
    {
     "data": {
      "text/html": [
       "<div>\n",
       "<style scoped>\n",
       "    .dataframe tbody tr th:only-of-type {\n",
       "        vertical-align: middle;\n",
       "    }\n",
       "\n",
       "    .dataframe tbody tr th {\n",
       "        vertical-align: top;\n",
       "    }\n",
       "\n",
       "    .dataframe thead th {\n",
       "        text-align: right;\n",
       "    }\n",
       "</style>\n",
       "<table border=\"1\" class=\"dataframe\">\n",
       "  <thead>\n",
       "    <tr style=\"text-align: right;\">\n",
       "      <th></th>\n",
       "      <th>loja</th>\n",
       "      <th>dia</th>\n",
       "      <th>valor</th>\n",
       "    </tr>\n",
       "  </thead>\n",
       "  <tbody>\n",
       "    <tr>\n",
       "      <th>0</th>\n",
       "      <td>A</td>\n",
       "      <td>sex</td>\n",
       "      <td>7500</td>\n",
       "    </tr>\n",
       "    <tr>\n",
       "      <th>1</th>\n",
       "      <td>A</td>\n",
       "      <td>sab</td>\n",
       "      <td>9500</td>\n",
       "    </tr>\n",
       "    <tr>\n",
       "      <th>2</th>\n",
       "      <td>A</td>\n",
       "      <td>dom</td>\n",
       "      <td>8200</td>\n",
       "    </tr>\n",
       "    <tr>\n",
       "      <th>0</th>\n",
       "      <td>B</td>\n",
       "      <td>sex</td>\n",
       "      <td>5100</td>\n",
       "    </tr>\n",
       "    <tr>\n",
       "      <th>1</th>\n",
       "      <td>B</td>\n",
       "      <td>sab</td>\n",
       "      <td>8250</td>\n",
       "    </tr>\n",
       "    <tr>\n",
       "      <th>2</th>\n",
       "      <td>B</td>\n",
       "      <td>dom</td>\n",
       "      <td>9900</td>\n",
       "    </tr>\n",
       "    <tr>\n",
       "      <th>0</th>\n",
       "      <td>C</td>\n",
       "      <td>sab</td>\n",
       "      <td>7500</td>\n",
       "    </tr>\n",
       "    <tr>\n",
       "      <th>1</th>\n",
       "      <td>C</td>\n",
       "      <td>dom</td>\n",
       "      <td>11800</td>\n",
       "    </tr>\n",
       "  </tbody>\n",
       "</table>\n",
       "</div>"
      ],
      "text/plain": [
       "  loja  dia  valor\n",
       "0    A  sex   7500\n",
       "1    A  sab   9500\n",
       "2    A  dom   8200\n",
       "0    B  sex   5100\n",
       "1    B  sab   8250\n",
       "2    B  dom   9900\n",
       "0    C  sab   7500\n",
       "1    C  dom  11800"
      ]
     },
     "execution_count": 4,
     "metadata": {},
     "output_type": "execute_result"
    }
   ],
   "source": [
    "#Em Colunas\n",
    "pd.concat([Mercearia, Farmácia, Restaurante])"
   ]
  },
  {
   "cell_type": "markdown",
   "id": "cfe356af",
   "metadata": {},
   "source": [
    "conclusão: a ocorrencia de valores NaN no dataframe em linhas se da porque o dataframe original não possui valores para serem adicionados nesses espaços, então os valores NaN servem para manter a formatação e isso não acontece na feita em colunas pois ela só apresenta os valores dados"
   ]
  },
  {
   "cell_type": "code",
   "execution_count": 7,
   "id": "1ee51a1d",
   "metadata": {},
   "outputs": [],
   "source": [
    "#Questão 2\n",
    "\n",
    "SQL = pd.DataFrame({\"email\":[\"rakesh@xyz.com\",\n",
    "\"ecg@acmecorpus.com\"]})\n",
    "PYTHON = pd.DataFrame({\"email\":[\"ana@xyz.com\",\n",
    "\"jonas@acmecorpus.com\",\n",
    "\"rakesh@xyz.com\"]})"
   ]
  },
  {
   "cell_type": "code",
   "execution_count": 19,
   "id": "720ba4c8",
   "metadata": {},
   "outputs": [
    {
     "name": "stdout",
     "output_type": "stream",
     "text": [
      "Alunos distintos:\n",
      "\n",
      "                  email\n",
      "0        rakesh@xyz.com\n",
      "1    ecg@acmecorpus.com\n",
      "2           ana@xyz.com\n",
      "3  jonas@acmecorpus.com\n"
     ]
    }
   ],
   "source": [
    "#A\n",
    "alunos = pd.concat([SQL, PYTHON], ignore_index=True)\n",
    "alunos = alunos.drop_duplicates()\n",
    "print(\"Alunos distintos:\\n\")\n",
    "print(alunos)"
   ]
  },
  {
   "cell_type": "code",
   "execution_count": 9,
   "id": "b3d781b3",
   "metadata": {},
   "outputs": [
    {
     "name": "stdout",
     "output_type": "stream",
     "text": [
      "O(s) aluno(s) que fizeram ambos os cursos:\n",
      "            email\n",
      "0  rakesh@xyz.com\n"
     ]
    }
   ],
   "source": [
    "#B\n",
    "print(\"O(s) aluno(s) que fizeram ambos os cursos:\")\n",
    "ambos = pd.merge(SQL,PYTHON)\n",
    "print(ambos)"
   ]
  },
  {
   "cell_type": "code",
   "execution_count": 18,
   "id": "785272e2",
   "metadata": {},
   "outputs": [
    {
     "name": "stdout",
     "output_type": "stream",
     "text": [
      "Alunos que fizeram só o curso de SQL:\n",
      "                email\n",
      "1  ecg@acmecorpus.com\n",
      "\n",
      "Alunos que fizeram só o curso de Python:\n",
      "                  email\n",
      "0           ana@xyz.com\n",
      "1  jonas@acmecorpus.com\n"
     ]
    }
   ],
   "source": [
    "#C\n",
    "sosql = SQL[SQL.email.isin(PYTHON.email)==False]\n",
    "sopython = PYTHON[PYTHON.email.isin(SQL.email)==False]\n",
    "print('Alunos que fizeram só o curso de SQL:')\n",
    "print(sosql)\n",
    "print('\\nAlunos que fizeram só o curso de Python:')\n",
    "print(sopython)"
   ]
  },
  {
   "cell_type": "code",
   "execution_count": 15,
   "id": "6fd08267",
   "metadata": {},
   "outputs": [],
   "source": [
    "#Questão 3\n",
    "\n",
    "dic_emp = {\"id\":[\"D1\",\"D2\",\"D3\",\"D4\"],\n",
    "\"nomDepto\": [\"Compras\",\"RH\",\"TI\",\"Vendas\"],\n",
    "\"local\":[\"SP\",\"RJ\",\"RJ\",\"SP\"]\n",
    "}\n",
    "dic_func = {\"num\":[3199,3269,3555,3788,3844],\n",
    "\"nome\": [\"Ana\",\"David\",\"José\",\"Marina\",\"Luís\"],\n",
    "\"salario\":[1600,2975,1500,5000,3000],\n",
    "\"idDepto\": [\"D2\",\"D3\",None,\"D2\",\"D4\"]\n",
    "}\n",
    "empresa = pd.DataFrame(dic_emp)\n",
    "funcionarios = pd.DataFrame(dic_func)"
   ]
  },
  {
   "cell_type": "code",
   "execution_count": 17,
   "id": "5aa25a00",
   "metadata": {},
   "outputs": [
    {
     "name": "stdout",
     "output_type": "stream",
     "text": [
      "Dados da empresa:\n",
      "\n",
      "    num    nome  salario idDepto  id nomDepto local\n",
      "0  3199     Ana     1600      D2  D2       RH    RJ\n",
      "1  3788  Marina     5000      D2  D2       RH    RJ\n",
      "2  3269   David     2975      D3  D3       TI    RJ\n",
      "3  3844    Luís     3000      D4  D4   Vendas    SP\n"
     ]
    }
   ],
   "source": [
    "empdados = pd.merge(funcionarios, empresa, left_on='idDepto', right_on='id')\n",
    "print(\"Dados da empresa:\\n\")\n",
    "print(empdados)"
   ]
  },
  {
   "cell_type": "code",
   "execution_count": null,
   "id": "3b028e7d",
   "metadata": {},
   "outputs": [],
   "source": []
  }
 ],
 "metadata": {
  "kernelspec": {
   "display_name": "Python 3",
   "language": "python",
   "name": "python3"
  },
  "language_info": {
   "codemirror_mode": {
    "name": "ipython",
    "version": 3
   },
   "file_extension": ".py",
   "mimetype": "text/x-python",
   "name": "python",
   "nbconvert_exporter": "python",
   "pygments_lexer": "ipython3",
   "version": "3.8.8"
  }
 },
 "nbformat": 4,
 "nbformat_minor": 5
}
