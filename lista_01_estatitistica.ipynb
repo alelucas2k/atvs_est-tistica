{
 "cells": [
  {
   "cell_type": "markdown",
   "metadata": {},
   "source": [
    "estatistica aplicada\n",
    "lista 01\n",
    "aluno: Alessandro Lucas de Arruda Santos"
   ]
  },
  {
   "cell_type": "markdown",
   "metadata": {},
   "source": [
    "Resposta da questão 1: As alternativas A, B e D são dados quantitativos, pois são representados por quentidades númericas, enquanto as alternativas C e E são representadas por nomes/palavras"
   ]
  },
  {
   "cell_type": "markdown",
   "metadata": {},
   "source": [
    "Reposta da questão 2:As variáveis SEXO e PREDILETA são dados qualitativos, sendo que a primeira é do subtipo nominal e a segunda do tipo ordinal, pois a variável sexo não possui ordenação, enquanto que a variável predileta possui, pois tal aluno gosta mais da matéria A do que da matéria B.Já a variável NOTA é quantitativa discreta pois assumem apenas valores inteiros.\n",
    "    \n",
    "    \n"
   ]
  },
  {
   "cell_type": "markdown",
   "metadata": {},
   "source": [
    "Resposta da questão 3: Todas as variáveis são quantitativas, mas apenas a variável renda é continua posis pode assumir qualquer valor dentro de um intervalo, enquanto que as demais só assumem valores inteiros ou pré-definidos"
   ]
  }
 ],
 "metadata": {
  "kernelspec": {
   "display_name": "Python 3",
   "language": "python",
   "name": "python3"
  },
  "language_info": {
   "codemirror_mode": {
    "name": "ipython",
    "version": 3
   },
   "file_extension": ".py",
   "mimetype": "text/x-python",
   "name": "python",
   "nbconvert_exporter": "python",
   "pygments_lexer": "ipython3",
   "version": "3.8.8"
  }
 },
 "nbformat": 4,
 "nbformat_minor": 4
}
